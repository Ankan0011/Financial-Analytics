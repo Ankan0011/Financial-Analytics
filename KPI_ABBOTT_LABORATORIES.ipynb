{
 "cells": [
  {
   "cell_type": "code",
   "execution_count": 1,
   "metadata": {
    "scrolled": true
   },
   "outputs": [],
   "source": [
    "import pandas as pd\n",
    "import glob, os\n",
    "\n",
    "#Path for the data files and most of the variable declaration\n",
    "path = \"/Users/thieb/OneDrive - uzh.ch/Desktop/UNI/Master/Herbstsemester 2020/Value Creation/Data_dump_2\" #\"/Users/ankanghosh/Downloads/Semester III/Analytics & Value Creation/Data_dump\"  #Change this path according your data\n",
    "Net_Sales = ['SalesRevenueNet','SalesRevenueGoodsNet', 'RevenueFromContractWithCustomerExcludingAssessedTax']\n",
    "Net_Income = ['NetIncomeLoss']\n",
    "Operating_Profit = ['IncomeLossFromContinuingOperations', 'OperatingIncomeLoss', 'IncomeLossFromContinuingOperationsBeforeIncomeTaxesMinorityInterestAndIncomeLossFromEquityMethodInvestments']\n",
    "RD_Expenditure = ['ResearchAndDevelopmentExpense', 'ResearchAndDevelopmentExpenseExcludingAcquiredInProcessCost']\n",
    "\n",
    "companies = ['ABBOTT LABORATORIES']"
   ]
  },
  {
   "cell_type": "code",
   "execution_count": 2,
   "metadata": {},
   "outputs": [],
   "source": [
    "#Loading all the csv files from the directory\n",
    "all_files = glob.glob(os.path.join(path, \"*.csv\"))     # advisable to use os.path.join as this makes concatenation OS independent\n",
    "df_from_each_file = (pd.read_csv(f) for f in all_files)\n",
    "concatenated_df   = pd.concat(df_from_each_file, ignore_index=True)"
   ]
  },
  {
   "cell_type": "code",
   "execution_count": 3,
   "metadata": {},
   "outputs": [],
   "source": [
    "#Selection of the companies for the repective calculations\n",
    "#df_selectedCompanies = concatenated_df[concatenated_df['name'] == 'ABBVIE INC.']  #For individual Companies\n",
    "\n",
    "df_selectedCompanies = concatenated_df[concatenated_df['name'].isin(companies)]\n",
    "df_selectedCompanies = df_selectedCompanies.drop(['version', 'cik', 'countryba', 'stprba', 'cityba', 'zipba', 'countryma', 'fy', 'filed', 'accepted', 'ddate', 'adsh'], axis=1)\n",
    "\n",
    "#Seperating the columns based on tags \n",
    "df_netsales = df_selectedCompanies[df_selectedCompanies['tag'].isin(Net_Sales)].rename(columns = {'value':'NetSalesValues'})\n",
    "df_netincome = df_selectedCompanies[df_selectedCompanies['tag'].isin(Net_Income)].rename(columns = {'value':'NetIncomeValues'})\n",
    "df_operatingprofit = df_selectedCompanies[df_selectedCompanies['tag'].isin(Operating_Profit)].rename(columns ={'value':'OperatingProfit'})\n",
    "df_rnd = df_selectedCompanies[df_selectedCompanies['tag'].isin(RD_Expenditure)].rename(columns ={'value':'RnDValues'})"
   ]
  },
  {
   "cell_type": "code",
   "execution_count": 4,
   "metadata": {},
   "outputs": [],
   "source": [
    "df_netsales = df_netsales.sort_values(by=['qtrs'], ascending=False)\n",
    "df_netsales.drop_duplicates(subset = 'period', \n",
    "                     keep = \"first\", inplace = True)\n",
    "df_netsales = df_netsales.sort_values(by=['period'], ascending=True)\n",
    "\n",
    "df_netincome = df_netincome.sort_values(by=['qtrs'], ascending=False)\n",
    "df_netincome.drop_duplicates(subset = 'period', \n",
    "                     keep = \"first\", inplace = True)\n",
    "df_netincome = df_netincome.sort_values(by=['period'], ascending=True)\n",
    "df_operatingprofit = df_operatingprofit.sort_values(by=['qtrs'], ascending=False)\n",
    "df_operatingprofit.drop_duplicates(subset = 'period', \n",
    "                     keep = \"first\", inplace = True)\n",
    "df_operatingprofit = df_operatingprofit.sort_values(by=['period'], ascending=True)\n",
    "df_rnd = df_rnd.sort_values(by=['qtrs'], ascending=False)\n",
    "df_rnd.drop_duplicates(subset = 'period', \n",
    "                     keep = \"first\", inplace = True)\n",
    "df_rnd = df_rnd.sort_values(by=['period'], ascending=True)"
   ]
  },
  {
   "cell_type": "code",
   "execution_count": 5,
   "metadata": {},
   "outputs": [],
   "source": [
    "#Joining the tables based on adsh and period columns and calculating \"Net Profit Margin\"\n",
    "df_NPM = pd.merge(df_netsales, df_netincome, on=[\"name\", \"period\"])\n",
    "df_NPM['Net_Profit_Margin']= df_NPM['NetIncomeValues']/df_NPM['NetSalesValues']\n"
   ]
  },
  {
   "cell_type": "code",
   "execution_count": 6,
   "metadata": {},
   "outputs": [],
   "source": [
    "#Joining the tables based on adsh and period columns and calculating \"Operating Profit Margin\"\n",
    "df_OPM = pd.merge(df_netsales, df_operatingprofit, on=[\"name\", \"period\"])\n",
    "df_OPM['Operational_Profit_Margin']= df_OPM['OperatingProfit']/df_OPM['NetSalesValues']"
   ]
  },
  {
   "cell_type": "code",
   "execution_count": 7,
   "metadata": {},
   "outputs": [],
   "source": [
    "df_RCR = pd.merge(df_netsales, df_rnd, on=[\"name\", \"period\"])\n",
    "df_RCR['Return_on_Research_Capital_Ratio'] = df_RCR['RnDValues']/df_RCR['NetSalesValues']"
   ]
  },
  {
   "cell_type": "code",
   "execution_count": 8,
   "metadata": {},
   "outputs": [],
   "source": [
    "df_SalesGrowth = df_netsales\n",
    "df_SalesGrowth['SalesGrowth'] = df_SalesGrowth['NetSalesValues'].pct_change()\n",
    "df_SalesGrowth['SalesGrowthYoY'] = df_SalesGrowth['NetSalesValues'].pct_change(periods = 4)"
   ]
  },
  {
   "cell_type": "code",
   "execution_count": 9,
   "metadata": {},
   "outputs": [],
   "source": [
    "df_OperatingGrowth = df_operatingprofit\n",
    "df_OperatingGrowth['OperatingGrowth'] = df_OperatingGrowth['OperatingProfit'].pct_change()\n",
    "df_OperatingGrowth['OperatingGrowthYoY'] = df_OperatingGrowth['OperatingProfit'].pct_change(periods = 4)"
   ]
  },
  {
   "cell_type": "code",
   "execution_count": 10,
   "metadata": {},
   "outputs": [],
   "source": [
    "df_DOL = pd.merge(df_SalesGrowth, df_OperatingGrowth, on=[\"name\",\"period\"])\n",
    "df_DOL['DegreeOfOperatingLeverage'] = df_DOL['OperatingGrowth']/df_DOL['SalesGrowth']\n",
    "df_DOL['DegreeOfOperatingLeverage'] = df_DOL['OperatingGrowthYoY']/df_DOL['SalesGrowthYoY']\n"
   ]
  },
  {
   "cell_type": "code",
   "execution_count": 11,
   "metadata": {},
   "outputs": [],
   "source": [
    "df_NPM.drop([col for col in df_NPM.columns if col.endswith ('_y')],axis=1,inplace=True)\n",
    "df_NPM.drop([col for col in df_NPM.columns if col.endswith ('_x')],axis=1,inplace=True)\n",
    "\n",
    "df_OPM.drop([col for col in df_OPM.columns if col.endswith ('_y')],axis=1,inplace=True)\n",
    "df_OPM.drop([col for col in df_OPM.columns if col.endswith ('_x')],axis=1,inplace=True)\n",
    "\n",
    "df_RCR.drop([col for col in df_RCR.columns if col.endswith ('_y')],axis=1,inplace=True)\n",
    "df_RCR.drop([col for col in df_RCR.columns if col.endswith ('_x')],axis=1,inplace=True)\n",
    "\n",
    "df_SalesGrowth.drop([col for col in df_SalesGrowth.columns if col.endswith ('_y')],axis=1,inplace=True)\n",
    "df_SalesGrowth.drop([col for col in df_SalesGrowth.columns if col.endswith ('_x')],axis=1,inplace=True)\n",
    "\n",
    "df_OperatingGrowth.drop([col for col in df_OperatingGrowth.columns if col.endswith ('_y')],axis=1,inplace=True)\n",
    "df_OperatingGrowth.drop([col for col in df_OperatingGrowth.columns if col.endswith ('_x')],axis=1,inplace=True)\n",
    "\n",
    "df_DOL.drop([col for col in df_DOL.columns if col.endswith ('_y')],axis=1,inplace=True)\n",
    "df_DOL.drop([col for col in df_DOL.columns if col.endswith ('_x')],axis=1,inplace=True)\n",
    "\n",
    "df_Results = pd.merge(df_OPM, df_NPM, on = [\"period\", \"name\"])\n",
    "df_Results = pd.merge(df_Results, df_RCR, on = [\"period\", \"name\"])\n",
    "df_Results = pd.merge(df_Results, df_DOL, on = [\"period\", \"name\"])\n",
    "\n",
    "df_Results.drop([col for col in df_Results.columns if col.endswith ('_y')],axis=1,inplace=True)\n",
    "df_Results.drop([col for col in df_Results.columns if col.endswith ('_x')],axis=1,inplace=True)\n",
    "df_Results.drop(['NetIncomeValues', 'RnDValues'], axis = 1, inplace = True)\n",
    "\n",
    "df_Results.to_csv(r'C:\\Users\\thieb\\OneDrive - uzh.ch\\Desktop\\UNI\\Master\\Herbstsemester 2020\\Value Creation\\Data_dump\\Results_Abbott.csv')"
   ]
  }
 ],
 "metadata": {
  "kernelspec": {
   "display_name": "Python 3",
   "language": "python",
   "name": "python3"
  },
  "language_info": {
   "codemirror_mode": {
    "name": "ipython",
    "version": 3
   },
   "file_extension": ".py",
   "mimetype": "text/x-python",
   "name": "python",
   "nbconvert_exporter": "python",
   "pygments_lexer": "ipython3",
   "version": "3.8.3"
  }
 },
 "nbformat": 4,
 "nbformat_minor": 4
}
